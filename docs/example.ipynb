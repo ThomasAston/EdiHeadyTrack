{
 "cells": [
  {
   "attachments": {},
   "cell_type": "markdown",
   "metadata": {},
   "source": [
    "# Example"
   ]
  },
  {
   "attachments": {},
   "cell_type": "markdown",
   "metadata": {},
   "source": [
    "The EdiHeadyTrack sample videos used here can be downloaded directly from the [Github](https://github.com/isDynamics/EdiHeadyTrack/tree/master/resources) or in the terminal using [wget](https://www.gnu.org/software/wget/)."
   ]
  },
  {
   "attachments": {},
   "cell_type": "markdown",
   "metadata": {},
   "source": [
    "Installing EdiHeadyTrack:"
   ]
  },
  {
   "cell_type": "code",
   "execution_count": 1,
   "metadata": {},
   "outputs": [
    {
     "name": "stdout",
     "output_type": "stream",
     "text": [
      "\u001b[33mWARNING: Ignoring invalid distribution -cipy (/Users/thomas/Library/CloudStorage/OneDrive-UniversityofEdinburgh/PhD/1. Working/1. Computational/EdiHeadyTrack - PACKAGE SOURCE/venv/lib/python3.9/site-packages)\u001b[0m\u001b[33m\n",
      "\u001b[0m\u001b[33mWARNING: Ignoring invalid distribution -umpy (/Users/thomas/Library/CloudStorage/OneDrive-UniversityofEdinburgh/PhD/1. Working/1. Computational/EdiHeadyTrack - PACKAGE SOURCE/venv/lib/python3.9/site-packages)\u001b[0m\u001b[33m\n",
      "\u001b[0mRequirement already satisfied: EdiHeadyTrack in /Users/thomas/Library/CloudStorage/OneDrive-UniversityofEdinburgh/PhD/1. Working/1. Computational/EdiHeadyTrack - PACKAGE SOURCE/venv/lib/python3.9/site-packages (0.1.22)\n",
      "Requirement already satisfied: matplotlib in /Users/thomas/Library/CloudStorage/OneDrive-UniversityofEdinburgh/PhD/1. Working/1. Computational/EdiHeadyTrack - PACKAGE SOURCE/venv/lib/python3.9/site-packages (from EdiHeadyTrack) (3.7.2)\n",
      "Requirement already satisfied: mediapipe in /Users/thomas/Library/CloudStorage/OneDrive-UniversityofEdinburgh/PhD/1. Working/1. Computational/EdiHeadyTrack - PACKAGE SOURCE/venv/lib/python3.9/site-packages (from EdiHeadyTrack) (0.9.1.0)\n",
      "Requirement already satisfied: mock in /Users/thomas/Library/CloudStorage/OneDrive-UniversityofEdinburgh/PhD/1. Working/1. Computational/EdiHeadyTrack - PACKAGE SOURCE/venv/lib/python3.9/site-packages (from EdiHeadyTrack) (5.1.0)\n",
      "Requirement already satisfied: numpy<1.24 in /Users/thomas/Library/CloudStorage/OneDrive-UniversityofEdinburgh/PhD/1. Working/1. Computational/EdiHeadyTrack - PACKAGE SOURCE/venv/lib/python3.9/site-packages (from EdiHeadyTrack) (1.23.5)\n",
      "Requirement already satisfied: pandas in /Users/thomas/Library/CloudStorage/OneDrive-UniversityofEdinburgh/PhD/1. Working/1. Computational/EdiHeadyTrack - PACKAGE SOURCE/venv/lib/python3.9/site-packages (from EdiHeadyTrack) (2.1.0)\n",
      "Requirement already satisfied: scipy in /Users/thomas/Library/CloudStorage/OneDrive-UniversityofEdinburgh/PhD/1. Working/1. Computational/EdiHeadyTrack - PACKAGE SOURCE/venv/lib/python3.9/site-packages (from EdiHeadyTrack) (1.11.2)\n",
      "Requirement already satisfied: setuptools in /Users/thomas/Library/CloudStorage/OneDrive-UniversityofEdinburgh/PhD/1. Working/1. Computational/EdiHeadyTrack - PACKAGE SOURCE/venv/lib/python3.9/site-packages (from EdiHeadyTrack) (49.2.1)\n",
      "Requirement already satisfied: sphinx-rtd-theme in /Users/thomas/Library/CloudStorage/OneDrive-UniversityofEdinburgh/PhD/1. Working/1. Computational/EdiHeadyTrack - PACKAGE SOURCE/venv/lib/python3.9/site-packages (from EdiHeadyTrack) (1.3.0)\n",
      "Requirement already satisfied: sphinx-mdinclude in /Users/thomas/Library/CloudStorage/OneDrive-UniversityofEdinburgh/PhD/1. Working/1. Computational/EdiHeadyTrack - PACKAGE SOURCE/venv/lib/python3.9/site-packages (from EdiHeadyTrack) (0.5.3)\n",
      "Requirement already satisfied: nbsphinx in /Users/thomas/Library/CloudStorage/OneDrive-UniversityofEdinburgh/PhD/1. Working/1. Computational/EdiHeadyTrack - PACKAGE SOURCE/venv/lib/python3.9/site-packages (from EdiHeadyTrack) (0.9.3)\n",
      "Requirement already satisfied: tqdm in /Users/thomas/Library/CloudStorage/OneDrive-UniversityofEdinburgh/PhD/1. Working/1. Computational/EdiHeadyTrack - PACKAGE SOURCE/venv/lib/python3.9/site-packages (from EdiHeadyTrack) (4.66.1)\n",
      "Requirement already satisfied: torch in /Users/thomas/Library/CloudStorage/OneDrive-UniversityofEdinburgh/PhD/1. Working/1. Computational/EdiHeadyTrack - PACKAGE SOURCE/venv/lib/python3.9/site-packages (from EdiHeadyTrack) (2.0.1)\n",
      "Requirement already satisfied: torchvision in /Users/thomas/Library/CloudStorage/OneDrive-UniversityofEdinburgh/PhD/1. Working/1. Computational/EdiHeadyTrack - PACKAGE SOURCE/venv/lib/python3.9/site-packages (from EdiHeadyTrack) (0.15.2)\n",
      "Requirement already satisfied: opencv-python in /Users/thomas/Library/CloudStorage/OneDrive-UniversityofEdinburgh/PhD/1. Working/1. Computational/EdiHeadyTrack - PACKAGE SOURCE/venv/lib/python3.9/site-packages (from EdiHeadyTrack) (4.8.0.76)\n",
      "Requirement already satisfied: imageio in /Users/thomas/Library/CloudStorage/OneDrive-UniversityofEdinburgh/PhD/1. Working/1. Computational/EdiHeadyTrack - PACKAGE SOURCE/venv/lib/python3.9/site-packages (from EdiHeadyTrack) (2.31.3)\n",
      "Requirement already satisfied: imageio-ffmpeg in /Users/thomas/Library/CloudStorage/OneDrive-UniversityofEdinburgh/PhD/1. Working/1. Computational/EdiHeadyTrack - PACKAGE SOURCE/venv/lib/python3.9/site-packages (from EdiHeadyTrack) (0.4.8)\n",
      "Requirement already satisfied: pyyaml in /Users/thomas/Library/CloudStorage/OneDrive-UniversityofEdinburgh/PhD/1. Working/1. Computational/EdiHeadyTrack - PACKAGE SOURCE/venv/lib/python3.9/site-packages (from EdiHeadyTrack) (6.0.1)\n",
      "Collecting argparse (from EdiHeadyTrack)\n",
      "  Using cached argparse-1.4.0-py2.py3-none-any.whl (23 kB)\n",
      "Requirement already satisfied: cython in /Users/thomas/Library/CloudStorage/OneDrive-UniversityofEdinburgh/PhD/1. Working/1. Computational/EdiHeadyTrack - PACKAGE SOURCE/venv/lib/python3.9/site-packages (from EdiHeadyTrack) (3.0.2)\n",
      "Requirement already satisfied: scikit-image in /Users/thomas/Library/CloudStorage/OneDrive-UniversityofEdinburgh/PhD/1. Working/1. Computational/EdiHeadyTrack - PACKAGE SOURCE/venv/lib/python3.9/site-packages (from EdiHeadyTrack) (0.21.0)\n",
      "Requirement already satisfied: onnxruntime in /Users/thomas/Library/CloudStorage/OneDrive-UniversityofEdinburgh/PhD/1. Working/1. Computational/EdiHeadyTrack - PACKAGE SOURCE/venv/lib/python3.9/site-packages (from EdiHeadyTrack) (1.15.1)\n",
      "Requirement already satisfied: gradio in /Users/thomas/Library/CloudStorage/OneDrive-UniversityofEdinburgh/PhD/1. Working/1. Computational/EdiHeadyTrack - PACKAGE SOURCE/venv/lib/python3.9/site-packages (from EdiHeadyTrack) (3.42.0)\n",
      "Requirement already satisfied: aiofiles<24.0,>=22.0 in /Users/thomas/Library/CloudStorage/OneDrive-UniversityofEdinburgh/PhD/1. Working/1. Computational/EdiHeadyTrack - PACKAGE SOURCE/venv/lib/python3.9/site-packages (from gradio->EdiHeadyTrack) (23.2.1)\n",
      "Requirement already satisfied: altair<6.0,>=4.2.0 in /Users/thomas/Library/CloudStorage/OneDrive-UniversityofEdinburgh/PhD/1. Working/1. Computational/EdiHeadyTrack - PACKAGE SOURCE/venv/lib/python3.9/site-packages (from gradio->EdiHeadyTrack) (5.1.1)\n",
      "Requirement already satisfied: fastapi in /Users/thomas/Library/CloudStorage/OneDrive-UniversityofEdinburgh/PhD/1. Working/1. Computational/EdiHeadyTrack - PACKAGE SOURCE/venv/lib/python3.9/site-packages (from gradio->EdiHeadyTrack) (0.103.1)\n",
      "Requirement already satisfied: ffmpy in /Users/thomas/Library/CloudStorage/OneDrive-UniversityofEdinburgh/PhD/1. Working/1. Computational/EdiHeadyTrack - PACKAGE SOURCE/venv/lib/python3.9/site-packages (from gradio->EdiHeadyTrack) (0.3.1)\n",
      "Requirement already satisfied: gradio-client==0.5.0 in /Users/thomas/Library/CloudStorage/OneDrive-UniversityofEdinburgh/PhD/1. Working/1. Computational/EdiHeadyTrack - PACKAGE SOURCE/venv/lib/python3.9/site-packages (from gradio->EdiHeadyTrack) (0.5.0)\n",
      "Requirement already satisfied: httpx in /Users/thomas/Library/CloudStorage/OneDrive-UniversityofEdinburgh/PhD/1. Working/1. Computational/EdiHeadyTrack - PACKAGE SOURCE/venv/lib/python3.9/site-packages (from gradio->EdiHeadyTrack) (0.24.1)\n",
      "Requirement already satisfied: huggingface-hub>=0.14.0 in /Users/thomas/Library/CloudStorage/OneDrive-UniversityofEdinburgh/PhD/1. Working/1. Computational/EdiHeadyTrack - PACKAGE SOURCE/venv/lib/python3.9/site-packages (from gradio->EdiHeadyTrack) (0.16.4)\n",
      "Requirement already satisfied: importlib-resources<7.0,>=1.3 in /Users/thomas/Library/CloudStorage/OneDrive-UniversityofEdinburgh/PhD/1. Working/1. Computational/EdiHeadyTrack - PACKAGE SOURCE/venv/lib/python3.9/site-packages (from gradio->EdiHeadyTrack) (6.0.1)\n",
      "Requirement already satisfied: jinja2<4.0 in /Users/thomas/Library/CloudStorage/OneDrive-UniversityofEdinburgh/PhD/1. Working/1. Computational/EdiHeadyTrack - PACKAGE SOURCE/venv/lib/python3.9/site-packages (from gradio->EdiHeadyTrack) (3.1.2)\n",
      "Requirement already satisfied: markupsafe~=2.0 in /Users/thomas/Library/CloudStorage/OneDrive-UniversityofEdinburgh/PhD/1. Working/1. Computational/EdiHeadyTrack - PACKAGE SOURCE/venv/lib/python3.9/site-packages (from gradio->EdiHeadyTrack) (2.1.3)\n",
      "Requirement already satisfied: orjson~=3.0 in /Users/thomas/Library/CloudStorage/OneDrive-UniversityofEdinburgh/PhD/1. Working/1. Computational/EdiHeadyTrack - PACKAGE SOURCE/venv/lib/python3.9/site-packages (from gradio->EdiHeadyTrack) (3.9.5)\n",
      "Requirement already satisfied: packaging in /Users/thomas/Library/CloudStorage/OneDrive-UniversityofEdinburgh/PhD/1. Working/1. Computational/EdiHeadyTrack - PACKAGE SOURCE/venv/lib/python3.9/site-packages (from gradio->EdiHeadyTrack) (23.1)\n",
      "Requirement already satisfied: pillow<11.0,>=8.0 in /Users/thomas/Library/CloudStorage/OneDrive-UniversityofEdinburgh/PhD/1. Working/1. Computational/EdiHeadyTrack - PACKAGE SOURCE/venv/lib/python3.9/site-packages (from gradio->EdiHeadyTrack) (10.0.0)\n",
      "Requirement already satisfied: pydantic!=1.8,!=1.8.1,!=2.0.0,!=2.0.1,<3.0.0,>=1.7.4 in /Users/thomas/Library/CloudStorage/OneDrive-UniversityofEdinburgh/PhD/1. Working/1. Computational/EdiHeadyTrack - PACKAGE SOURCE/venv/lib/python3.9/site-packages (from gradio->EdiHeadyTrack) (2.3.0)\n",
      "Requirement already satisfied: pydub in /Users/thomas/Library/CloudStorage/OneDrive-UniversityofEdinburgh/PhD/1. Working/1. Computational/EdiHeadyTrack - PACKAGE SOURCE/venv/lib/python3.9/site-packages (from gradio->EdiHeadyTrack) (0.25.1)\n",
      "Requirement already satisfied: python-multipart in /Users/thomas/Library/CloudStorage/OneDrive-UniversityofEdinburgh/PhD/1. Working/1. Computational/EdiHeadyTrack - PACKAGE SOURCE/venv/lib/python3.9/site-packages (from gradio->EdiHeadyTrack) (0.0.6)\n",
      "Requirement already satisfied: requests~=2.0 in /Users/thomas/Library/CloudStorage/OneDrive-UniversityofEdinburgh/PhD/1. Working/1. Computational/EdiHeadyTrack - PACKAGE SOURCE/venv/lib/python3.9/site-packages (from gradio->EdiHeadyTrack) (2.31.0)\n",
      "Requirement already satisfied: semantic-version~=2.0 in /Users/thomas/Library/CloudStorage/OneDrive-UniversityofEdinburgh/PhD/1. Working/1. Computational/EdiHeadyTrack - PACKAGE SOURCE/venv/lib/python3.9/site-packages (from gradio->EdiHeadyTrack) (2.10.0)\n",
      "Requirement already satisfied: typing-extensions~=4.0 in /Users/thomas/Library/CloudStorage/OneDrive-UniversityofEdinburgh/PhD/1. Working/1. Computational/EdiHeadyTrack - PACKAGE SOURCE/venv/lib/python3.9/site-packages (from gradio->EdiHeadyTrack) (4.7.1)\n",
      "Requirement already satisfied: uvicorn>=0.14.0 in /Users/thomas/Library/CloudStorage/OneDrive-UniversityofEdinburgh/PhD/1. Working/1. Computational/EdiHeadyTrack - PACKAGE SOURCE/venv/lib/python3.9/site-packages (from gradio->EdiHeadyTrack) (0.23.2)\n",
      "Requirement already satisfied: websockets<12.0,>=10.0 in /Users/thomas/Library/CloudStorage/OneDrive-UniversityofEdinburgh/PhD/1. Working/1. Computational/EdiHeadyTrack - PACKAGE SOURCE/venv/lib/python3.9/site-packages (from gradio->EdiHeadyTrack) (11.0.3)\n",
      "Requirement already satisfied: fsspec in /Users/thomas/Library/CloudStorage/OneDrive-UniversityofEdinburgh/PhD/1. Working/1. Computational/EdiHeadyTrack - PACKAGE SOURCE/venv/lib/python3.9/site-packages (from gradio-client==0.5.0->gradio->EdiHeadyTrack) (2023.9.0)\n",
      "Requirement already satisfied: contourpy>=1.0.1 in /Users/thomas/Library/CloudStorage/OneDrive-UniversityofEdinburgh/PhD/1. Working/1. Computational/EdiHeadyTrack - PACKAGE SOURCE/venv/lib/python3.9/site-packages (from matplotlib->EdiHeadyTrack) (1.1.0)\n",
      "Requirement already satisfied: cycler>=0.10 in /Users/thomas/Library/CloudStorage/OneDrive-UniversityofEdinburgh/PhD/1. Working/1. Computational/EdiHeadyTrack - PACKAGE SOURCE/venv/lib/python3.9/site-packages (from matplotlib->EdiHeadyTrack) (0.11.0)\n",
      "Requirement already satisfied: fonttools>=4.22.0 in /Users/thomas/Library/CloudStorage/OneDrive-UniversityofEdinburgh/PhD/1. Working/1. Computational/EdiHeadyTrack - PACKAGE SOURCE/venv/lib/python3.9/site-packages (from matplotlib->EdiHeadyTrack) (4.42.1)\n",
      "Requirement already satisfied: kiwisolver>=1.0.1 in /Users/thomas/Library/CloudStorage/OneDrive-UniversityofEdinburgh/PhD/1. Working/1. Computational/EdiHeadyTrack - PACKAGE SOURCE/venv/lib/python3.9/site-packages (from matplotlib->EdiHeadyTrack) (1.4.5)\n",
      "Requirement already satisfied: pyparsing<3.1,>=2.3.1 in /Users/thomas/Library/CloudStorage/OneDrive-UniversityofEdinburgh/PhD/1. Working/1. Computational/EdiHeadyTrack - PACKAGE SOURCE/venv/lib/python3.9/site-packages (from matplotlib->EdiHeadyTrack) (3.0.9)\n",
      "Requirement already satisfied: python-dateutil>=2.7 in /Users/thomas/Library/CloudStorage/OneDrive-UniversityofEdinburgh/PhD/1. Working/1. Computational/EdiHeadyTrack - PACKAGE SOURCE/venv/lib/python3.9/site-packages (from matplotlib->EdiHeadyTrack) (2.8.2)\n",
      "Requirement already satisfied: pytz>=2020.1 in /Users/thomas/Library/CloudStorage/OneDrive-UniversityofEdinburgh/PhD/1. Working/1. Computational/EdiHeadyTrack - PACKAGE SOURCE/venv/lib/python3.9/site-packages (from pandas->EdiHeadyTrack) (2023.3)\n",
      "Requirement already satisfied: tzdata>=2022.1 in /Users/thomas/Library/CloudStorage/OneDrive-UniversityofEdinburgh/PhD/1. Working/1. Computational/EdiHeadyTrack - PACKAGE SOURCE/venv/lib/python3.9/site-packages (from pandas->EdiHeadyTrack) (2023.3)\n",
      "Requirement already satisfied: absl-py in /Users/thomas/Library/CloudStorage/OneDrive-UniversityofEdinburgh/PhD/1. Working/1. Computational/EdiHeadyTrack - PACKAGE SOURCE/venv/lib/python3.9/site-packages (from mediapipe->EdiHeadyTrack) (1.4.0)\n",
      "Requirement already satisfied: attrs>=19.1.0 in /Users/thomas/Library/CloudStorage/OneDrive-UniversityofEdinburgh/PhD/1. Working/1. Computational/EdiHeadyTrack - PACKAGE SOURCE/venv/lib/python3.9/site-packages (from mediapipe->EdiHeadyTrack) (23.1.0)\n",
      "Requirement already satisfied: flatbuffers>=2.0 in /Users/thomas/Library/CloudStorage/OneDrive-UniversityofEdinburgh/PhD/1. Working/1. Computational/EdiHeadyTrack - PACKAGE SOURCE/venv/lib/python3.9/site-packages (from mediapipe->EdiHeadyTrack) (23.5.26)\n",
      "Requirement already satisfied: opencv-contrib-python in /Users/thomas/Library/CloudStorage/OneDrive-UniversityofEdinburgh/PhD/1. Working/1. Computational/EdiHeadyTrack - PACKAGE SOURCE/venv/lib/python3.9/site-packages (from mediapipe->EdiHeadyTrack) (4.8.0.76)\n",
      "Requirement already satisfied: protobuf<4,>=3.11 in /Users/thomas/Library/CloudStorage/OneDrive-UniversityofEdinburgh/PhD/1. Working/1. Computational/EdiHeadyTrack - PACKAGE SOURCE/venv/lib/python3.9/site-packages (from mediapipe->EdiHeadyTrack) (3.20.3)\n",
      "Requirement already satisfied: docutils in /Users/thomas/Library/CloudStorage/OneDrive-UniversityofEdinburgh/PhD/1. Working/1. Computational/EdiHeadyTrack - PACKAGE SOURCE/venv/lib/python3.9/site-packages (from nbsphinx->EdiHeadyTrack) (0.18.1)\n",
      "Requirement already satisfied: nbconvert!=5.4 in /Users/thomas/Library/CloudStorage/OneDrive-UniversityofEdinburgh/PhD/1. Working/1. Computational/EdiHeadyTrack - PACKAGE SOURCE/venv/lib/python3.9/site-packages (from nbsphinx->EdiHeadyTrack) (7.8.0)\n",
      "Requirement already satisfied: traitlets>=5 in /Users/thomas/Library/CloudStorage/OneDrive-UniversityofEdinburgh/PhD/1. Working/1. Computational/EdiHeadyTrack - PACKAGE SOURCE/venv/lib/python3.9/site-packages (from nbsphinx->EdiHeadyTrack) (5.9.0)\n",
      "Requirement already satisfied: nbformat in /Users/thomas/Library/CloudStorage/OneDrive-UniversityofEdinburgh/PhD/1. Working/1. Computational/EdiHeadyTrack - PACKAGE SOURCE/venv/lib/python3.9/site-packages (from nbsphinx->EdiHeadyTrack) (5.9.2)\n",
      "Requirement already satisfied: sphinx>=1.8 in /Users/thomas/Library/CloudStorage/OneDrive-UniversityofEdinburgh/PhD/1. Working/1. Computational/EdiHeadyTrack - PACKAGE SOURCE/venv/lib/python3.9/site-packages (from nbsphinx->EdiHeadyTrack) (7.2.5)\n",
      "Requirement already satisfied: coloredlogs in /Users/thomas/Library/CloudStorage/OneDrive-UniversityofEdinburgh/PhD/1. Working/1. Computational/EdiHeadyTrack - PACKAGE SOURCE/venv/lib/python3.9/site-packages (from onnxruntime->EdiHeadyTrack) (15.0.1)\n",
      "Requirement already satisfied: sympy in /Users/thomas/Library/CloudStorage/OneDrive-UniversityofEdinburgh/PhD/1. Working/1. Computational/EdiHeadyTrack - PACKAGE SOURCE/venv/lib/python3.9/site-packages (from onnxruntime->EdiHeadyTrack) (1.12)\n",
      "Requirement already satisfied: networkx>=2.8 in /Users/thomas/Library/CloudStorage/OneDrive-UniversityofEdinburgh/PhD/1. Working/1. Computational/EdiHeadyTrack - PACKAGE SOURCE/venv/lib/python3.9/site-packages (from scikit-image->EdiHeadyTrack) (3.1)\n",
      "Requirement already satisfied: tifffile>=2022.8.12 in /Users/thomas/Library/CloudStorage/OneDrive-UniversityofEdinburgh/PhD/1. Working/1. Computational/EdiHeadyTrack - PACKAGE SOURCE/venv/lib/python3.9/site-packages (from scikit-image->EdiHeadyTrack) (2023.8.30)\n",
      "Requirement already satisfied: PyWavelets>=1.1.1 in /Users/thomas/Library/CloudStorage/OneDrive-UniversityofEdinburgh/PhD/1. Working/1. Computational/EdiHeadyTrack - PACKAGE SOURCE/venv/lib/python3.9/site-packages (from scikit-image->EdiHeadyTrack) (1.4.1)\n",
      "Requirement already satisfied: lazy_loader>=0.2 in /Users/thomas/Library/CloudStorage/OneDrive-UniversityofEdinburgh/PhD/1. Working/1. Computational/EdiHeadyTrack - PACKAGE SOURCE/venv/lib/python3.9/site-packages (from scikit-image->EdiHeadyTrack) (0.3)\n",
      "Requirement already satisfied: mistune<3.0,>=2.0 in /Users/thomas/Library/CloudStorage/OneDrive-UniversityofEdinburgh/PhD/1. Working/1. Computational/EdiHeadyTrack - PACKAGE SOURCE/venv/lib/python3.9/site-packages (from sphinx-mdinclude->EdiHeadyTrack) (2.0.5)\n",
      "Requirement already satisfied: pygments>=2.8 in /Users/thomas/Library/CloudStorage/OneDrive-UniversityofEdinburgh/PhD/1. Working/1. Computational/EdiHeadyTrack - PACKAGE SOURCE/venv/lib/python3.9/site-packages (from sphinx-mdinclude->EdiHeadyTrack) (2.16.1)\n",
      "Requirement already satisfied: sphinxcontrib-jquery<5,>=4 in /Users/thomas/Library/CloudStorage/OneDrive-UniversityofEdinburgh/PhD/1. Working/1. Computational/EdiHeadyTrack - PACKAGE SOURCE/venv/lib/python3.9/site-packages (from sphinx-rtd-theme->EdiHeadyTrack) (4.1)\n",
      "Requirement already satisfied: filelock in /Users/thomas/Library/CloudStorage/OneDrive-UniversityofEdinburgh/PhD/1. Working/1. Computational/EdiHeadyTrack - PACKAGE SOURCE/venv/lib/python3.9/site-packages (from torch->EdiHeadyTrack) (3.12.3)\n",
      "Requirement already satisfied: jsonschema>=3.0 in /Users/thomas/Library/CloudStorage/OneDrive-UniversityofEdinburgh/PhD/1. Working/1. Computational/EdiHeadyTrack - PACKAGE SOURCE/venv/lib/python3.9/site-packages (from altair<6.0,>=4.2.0->gradio->EdiHeadyTrack) (4.19.0)\n",
      "Requirement already satisfied: toolz in /Users/thomas/Library/CloudStorage/OneDrive-UniversityofEdinburgh/PhD/1. Working/1. Computational/EdiHeadyTrack - PACKAGE SOURCE/venv/lib/python3.9/site-packages (from altair<6.0,>=4.2.0->gradio->EdiHeadyTrack) (0.12.0)\n",
      "Requirement already satisfied: zipp>=3.1.0 in /Users/thomas/Library/CloudStorage/OneDrive-UniversityofEdinburgh/PhD/1. Working/1. Computational/EdiHeadyTrack - PACKAGE SOURCE/venv/lib/python3.9/site-packages (from importlib-resources<7.0,>=1.3->gradio->EdiHeadyTrack) (3.16.2)\n",
      "Requirement already satisfied: beautifulsoup4 in /Users/thomas/Library/CloudStorage/OneDrive-UniversityofEdinburgh/PhD/1. Working/1. Computational/EdiHeadyTrack - PACKAGE SOURCE/venv/lib/python3.9/site-packages (from nbconvert!=5.4->nbsphinx->EdiHeadyTrack) (4.12.2)\n",
      "Requirement already satisfied: bleach!=5.0.0 in /Users/thomas/Library/CloudStorage/OneDrive-UniversityofEdinburgh/PhD/1. Working/1. Computational/EdiHeadyTrack - PACKAGE SOURCE/venv/lib/python3.9/site-packages (from nbconvert!=5.4->nbsphinx->EdiHeadyTrack) (6.0.0)\n",
      "Requirement already satisfied: defusedxml in /Users/thomas/Library/CloudStorage/OneDrive-UniversityofEdinburgh/PhD/1. Working/1. Computational/EdiHeadyTrack - PACKAGE SOURCE/venv/lib/python3.9/site-packages (from nbconvert!=5.4->nbsphinx->EdiHeadyTrack) (0.7.1)\n",
      "Requirement already satisfied: importlib-metadata>=3.6 in /Users/thomas/Library/CloudStorage/OneDrive-UniversityofEdinburgh/PhD/1. Working/1. Computational/EdiHeadyTrack - PACKAGE SOURCE/venv/lib/python3.9/site-packages (from nbconvert!=5.4->nbsphinx->EdiHeadyTrack) (6.8.0)\n",
      "Requirement already satisfied: jupyter-core>=4.7 in /Users/thomas/Library/CloudStorage/OneDrive-UniversityofEdinburgh/PhD/1. Working/1. Computational/EdiHeadyTrack - PACKAGE SOURCE/venv/lib/python3.9/site-packages (from nbconvert!=5.4->nbsphinx->EdiHeadyTrack) (5.3.1)\n",
      "Requirement already satisfied: jupyterlab-pygments in /Users/thomas/Library/CloudStorage/OneDrive-UniversityofEdinburgh/PhD/1. Working/1. Computational/EdiHeadyTrack - PACKAGE SOURCE/venv/lib/python3.9/site-packages (from nbconvert!=5.4->nbsphinx->EdiHeadyTrack) (0.2.2)\n",
      "Requirement already satisfied: nbclient>=0.5.0 in /Users/thomas/Library/CloudStorage/OneDrive-UniversityofEdinburgh/PhD/1. Working/1. Computational/EdiHeadyTrack - PACKAGE SOURCE/venv/lib/python3.9/site-packages (from nbconvert!=5.4->nbsphinx->EdiHeadyTrack) (0.8.0)\n",
      "Requirement already satisfied: pandocfilters>=1.4.1 in /Users/thomas/Library/CloudStorage/OneDrive-UniversityofEdinburgh/PhD/1. Working/1. Computational/EdiHeadyTrack - PACKAGE SOURCE/venv/lib/python3.9/site-packages (from nbconvert!=5.4->nbsphinx->EdiHeadyTrack) (1.5.0)\n",
      "Requirement already satisfied: tinycss2 in /Users/thomas/Library/CloudStorage/OneDrive-UniversityofEdinburgh/PhD/1. Working/1. Computational/EdiHeadyTrack - PACKAGE SOURCE/venv/lib/python3.9/site-packages (from nbconvert!=5.4->nbsphinx->EdiHeadyTrack) (1.2.1)\n",
      "Requirement already satisfied: fastjsonschema in /Users/thomas/Library/CloudStorage/OneDrive-UniversityofEdinburgh/PhD/1. Working/1. Computational/EdiHeadyTrack - PACKAGE SOURCE/venv/lib/python3.9/site-packages (from nbformat->nbsphinx->EdiHeadyTrack) (2.18.0)\n",
      "Requirement already satisfied: annotated-types>=0.4.0 in /Users/thomas/Library/CloudStorage/OneDrive-UniversityofEdinburgh/PhD/1. Working/1. Computational/EdiHeadyTrack - PACKAGE SOURCE/venv/lib/python3.9/site-packages (from pydantic!=1.8,!=1.8.1,!=2.0.0,!=2.0.1,<3.0.0,>=1.7.4->gradio->EdiHeadyTrack) (0.5.0)\n",
      "Requirement already satisfied: pydantic-core==2.6.3 in /Users/thomas/Library/CloudStorage/OneDrive-UniversityofEdinburgh/PhD/1. Working/1. Computational/EdiHeadyTrack - PACKAGE SOURCE/venv/lib/python3.9/site-packages (from pydantic!=1.8,!=1.8.1,!=2.0.0,!=2.0.1,<3.0.0,>=1.7.4->gradio->EdiHeadyTrack) (2.6.3)\n",
      "Requirement already satisfied: six>=1.5 in /Users/thomas/Library/CloudStorage/OneDrive-UniversityofEdinburgh/PhD/1. Working/1. Computational/EdiHeadyTrack - PACKAGE SOURCE/venv/lib/python3.9/site-packages (from python-dateutil>=2.7->matplotlib->EdiHeadyTrack) (1.16.0)\n",
      "Requirement already satisfied: charset-normalizer<4,>=2 in /Users/thomas/Library/CloudStorage/OneDrive-UniversityofEdinburgh/PhD/1. Working/1. Computational/EdiHeadyTrack - PACKAGE SOURCE/venv/lib/python3.9/site-packages (from requests~=2.0->gradio->EdiHeadyTrack) (3.2.0)\n",
      "Requirement already satisfied: idna<4,>=2.5 in /Users/thomas/Library/CloudStorage/OneDrive-UniversityofEdinburgh/PhD/1. Working/1. Computational/EdiHeadyTrack - PACKAGE SOURCE/venv/lib/python3.9/site-packages (from requests~=2.0->gradio->EdiHeadyTrack) (3.4)\n",
      "Requirement already satisfied: urllib3<3,>=1.21.1 in /Users/thomas/Library/CloudStorage/OneDrive-UniversityofEdinburgh/PhD/1. Working/1. Computational/EdiHeadyTrack - PACKAGE SOURCE/venv/lib/python3.9/site-packages (from requests~=2.0->gradio->EdiHeadyTrack) (2.0.4)\n",
      "Requirement already satisfied: certifi>=2017.4.17 in /Users/thomas/Library/CloudStorage/OneDrive-UniversityofEdinburgh/PhD/1. Working/1. Computational/EdiHeadyTrack - PACKAGE SOURCE/venv/lib/python3.9/site-packages (from requests~=2.0->gradio->EdiHeadyTrack) (2023.7.22)\n",
      "Requirement already satisfied: sphinxcontrib-applehelp in /Users/thomas/Library/CloudStorage/OneDrive-UniversityofEdinburgh/PhD/1. Working/1. Computational/EdiHeadyTrack - PACKAGE SOURCE/venv/lib/python3.9/site-packages (from sphinx>=1.8->nbsphinx->EdiHeadyTrack) (1.0.7)\n",
      "Requirement already satisfied: sphinxcontrib-devhelp in /Users/thomas/Library/CloudStorage/OneDrive-UniversityofEdinburgh/PhD/1. Working/1. Computational/EdiHeadyTrack - PACKAGE SOURCE/venv/lib/python3.9/site-packages (from sphinx>=1.8->nbsphinx->EdiHeadyTrack) (1.0.5)\n",
      "Requirement already satisfied: sphinxcontrib-jsmath in /Users/thomas/Library/CloudStorage/OneDrive-UniversityofEdinburgh/PhD/1. Working/1. Computational/EdiHeadyTrack - PACKAGE SOURCE/venv/lib/python3.9/site-packages (from sphinx>=1.8->nbsphinx->EdiHeadyTrack) (1.0.1)\n",
      "Requirement already satisfied: sphinxcontrib-htmlhelp>=2.0.0 in /Users/thomas/Library/CloudStorage/OneDrive-UniversityofEdinburgh/PhD/1. Working/1. Computational/EdiHeadyTrack - PACKAGE SOURCE/venv/lib/python3.9/site-packages (from sphinx>=1.8->nbsphinx->EdiHeadyTrack) (2.0.4)\n",
      "Requirement already satisfied: sphinxcontrib-serializinghtml>=1.1.9 in /Users/thomas/Library/CloudStorage/OneDrive-UniversityofEdinburgh/PhD/1. Working/1. Computational/EdiHeadyTrack - PACKAGE SOURCE/venv/lib/python3.9/site-packages (from sphinx>=1.8->nbsphinx->EdiHeadyTrack) (1.1.9)\n",
      "Requirement already satisfied: sphinxcontrib-qthelp in /Users/thomas/Library/CloudStorage/OneDrive-UniversityofEdinburgh/PhD/1. Working/1. Computational/EdiHeadyTrack - PACKAGE SOURCE/venv/lib/python3.9/site-packages (from sphinx>=1.8->nbsphinx->EdiHeadyTrack) (1.0.6)\n",
      "Requirement already satisfied: snowballstemmer>=2.0 in /Users/thomas/Library/CloudStorage/OneDrive-UniversityofEdinburgh/PhD/1. Working/1. Computational/EdiHeadyTrack - PACKAGE SOURCE/venv/lib/python3.9/site-packages (from sphinx>=1.8->nbsphinx->EdiHeadyTrack) (2.2.0)\n",
      "Requirement already satisfied: babel>=2.9 in /Users/thomas/Library/CloudStorage/OneDrive-UniversityofEdinburgh/PhD/1. Working/1. Computational/EdiHeadyTrack - PACKAGE SOURCE/venv/lib/python3.9/site-packages (from sphinx>=1.8->nbsphinx->EdiHeadyTrack) (2.12.1)\n",
      "Requirement already satisfied: alabaster<0.8,>=0.7 in /Users/thomas/Library/CloudStorage/OneDrive-UniversityofEdinburgh/PhD/1. Working/1. Computational/EdiHeadyTrack - PACKAGE SOURCE/venv/lib/python3.9/site-packages (from sphinx>=1.8->nbsphinx->EdiHeadyTrack) (0.7.13)\n",
      "Requirement already satisfied: imagesize>=1.3 in /Users/thomas/Library/CloudStorage/OneDrive-UniversityofEdinburgh/PhD/1. Working/1. Computational/EdiHeadyTrack - PACKAGE SOURCE/venv/lib/python3.9/site-packages (from sphinx>=1.8->nbsphinx->EdiHeadyTrack) (1.4.1)\n",
      "Requirement already satisfied: click>=7.0 in /Users/thomas/Library/CloudStorage/OneDrive-UniversityofEdinburgh/PhD/1. Working/1. Computational/EdiHeadyTrack - PACKAGE SOURCE/venv/lib/python3.9/site-packages (from uvicorn>=0.14.0->gradio->EdiHeadyTrack) (8.1.7)\n",
      "Requirement already satisfied: h11>=0.8 in /Users/thomas/Library/CloudStorage/OneDrive-UniversityofEdinburgh/PhD/1. Working/1. Computational/EdiHeadyTrack - PACKAGE SOURCE/venv/lib/python3.9/site-packages (from uvicorn>=0.14.0->gradio->EdiHeadyTrack) (0.14.0)\n",
      "Requirement already satisfied: humanfriendly>=9.1 in /Users/thomas/Library/CloudStorage/OneDrive-UniversityofEdinburgh/PhD/1. Working/1. Computational/EdiHeadyTrack - PACKAGE SOURCE/venv/lib/python3.9/site-packages (from coloredlogs->onnxruntime->EdiHeadyTrack) (10.0)\n",
      "Requirement already satisfied: anyio<4.0.0,>=3.7.1 in /Users/thomas/Library/CloudStorage/OneDrive-UniversityofEdinburgh/PhD/1. Working/1. Computational/EdiHeadyTrack - PACKAGE SOURCE/venv/lib/python3.9/site-packages (from fastapi->gradio->EdiHeadyTrack) (3.7.1)\n",
      "Requirement already satisfied: starlette<0.28.0,>=0.27.0 in /Users/thomas/Library/CloudStorage/OneDrive-UniversityofEdinburgh/PhD/1. Working/1. Computational/EdiHeadyTrack - PACKAGE SOURCE/venv/lib/python3.9/site-packages (from fastapi->gradio->EdiHeadyTrack) (0.27.0)\n",
      "Requirement already satisfied: httpcore<0.18.0,>=0.15.0 in /Users/thomas/Library/CloudStorage/OneDrive-UniversityofEdinburgh/PhD/1. Working/1. Computational/EdiHeadyTrack - PACKAGE SOURCE/venv/lib/python3.9/site-packages (from httpx->gradio->EdiHeadyTrack) (0.17.3)\n",
      "Requirement already satisfied: sniffio in /Users/thomas/Library/CloudStorage/OneDrive-UniversityofEdinburgh/PhD/1. Working/1. Computational/EdiHeadyTrack - PACKAGE SOURCE/venv/lib/python3.9/site-packages (from httpx->gradio->EdiHeadyTrack) (1.3.0)\n",
      "Requirement already satisfied: mpmath>=0.19 in /Users/thomas/Library/CloudStorage/OneDrive-UniversityofEdinburgh/PhD/1. Working/1. Computational/EdiHeadyTrack - PACKAGE SOURCE/venv/lib/python3.9/site-packages (from sympy->onnxruntime->EdiHeadyTrack) (1.3.0)\n",
      "Requirement already satisfied: exceptiongroup in /Users/thomas/Library/CloudStorage/OneDrive-UniversityofEdinburgh/PhD/1. Working/1. Computational/EdiHeadyTrack - PACKAGE SOURCE/venv/lib/python3.9/site-packages (from anyio<4.0.0,>=3.7.1->fastapi->gradio->EdiHeadyTrack) (1.1.3)\n",
      "Requirement already satisfied: webencodings in /Users/thomas/Library/CloudStorage/OneDrive-UniversityofEdinburgh/PhD/1. Working/1. Computational/EdiHeadyTrack - PACKAGE SOURCE/venv/lib/python3.9/site-packages (from bleach!=5.0.0->nbconvert!=5.4->nbsphinx->EdiHeadyTrack) (0.5.1)\n",
      "Requirement already satisfied: jsonschema-specifications>=2023.03.6 in /Users/thomas/Library/CloudStorage/OneDrive-UniversityofEdinburgh/PhD/1. Working/1. Computational/EdiHeadyTrack - PACKAGE SOURCE/venv/lib/python3.9/site-packages (from jsonschema>=3.0->altair<6.0,>=4.2.0->gradio->EdiHeadyTrack) (2023.7.1)\n",
      "Requirement already satisfied: referencing>=0.28.4 in /Users/thomas/Library/CloudStorage/OneDrive-UniversityofEdinburgh/PhD/1. Working/1. Computational/EdiHeadyTrack - PACKAGE SOURCE/venv/lib/python3.9/site-packages (from jsonschema>=3.0->altair<6.0,>=4.2.0->gradio->EdiHeadyTrack) (0.30.2)\n",
      "Requirement already satisfied: rpds-py>=0.7.1 in /Users/thomas/Library/CloudStorage/OneDrive-UniversityofEdinburgh/PhD/1. Working/1. Computational/EdiHeadyTrack - PACKAGE SOURCE/venv/lib/python3.9/site-packages (from jsonschema>=3.0->altair<6.0,>=4.2.0->gradio->EdiHeadyTrack) (0.10.0)\n",
      "Requirement already satisfied: platformdirs>=2.5 in /Users/thomas/Library/CloudStorage/OneDrive-UniversityofEdinburgh/PhD/1. Working/1. Computational/EdiHeadyTrack - PACKAGE SOURCE/venv/lib/python3.9/site-packages (from jupyter-core>=4.7->nbconvert!=5.4->nbsphinx->EdiHeadyTrack) (3.10.0)\n",
      "Requirement already satisfied: jupyter-client>=6.1.12 in /Users/thomas/Library/CloudStorage/OneDrive-UniversityofEdinburgh/PhD/1. Working/1. Computational/EdiHeadyTrack - PACKAGE SOURCE/venv/lib/python3.9/site-packages (from nbclient>=0.5.0->nbconvert!=5.4->nbsphinx->EdiHeadyTrack) (8.3.1)\n",
      "Requirement already satisfied: soupsieve>1.2 in /Users/thomas/Library/CloudStorage/OneDrive-UniversityofEdinburgh/PhD/1. Working/1. Computational/EdiHeadyTrack - PACKAGE SOURCE/venv/lib/python3.9/site-packages (from beautifulsoup4->nbconvert!=5.4->nbsphinx->EdiHeadyTrack) (2.5)\n",
      "Requirement already satisfied: pyzmq>=23.0 in /Users/thomas/Library/CloudStorage/OneDrive-UniversityofEdinburgh/PhD/1. Working/1. Computational/EdiHeadyTrack - PACKAGE SOURCE/venv/lib/python3.9/site-packages (from jupyter-client>=6.1.12->nbclient>=0.5.0->nbconvert!=5.4->nbsphinx->EdiHeadyTrack) (25.1.1)\n",
      "Requirement already satisfied: tornado>=6.2 in /Users/thomas/Library/CloudStorage/OneDrive-UniversityofEdinburgh/PhD/1. Working/1. Computational/EdiHeadyTrack - PACKAGE SOURCE/venv/lib/python3.9/site-packages (from jupyter-client>=6.1.12->nbclient>=0.5.0->nbconvert!=5.4->nbsphinx->EdiHeadyTrack) (6.3.3)\n",
      "\u001b[33mWARNING: Ignoring invalid distribution -cipy (/Users/thomas/Library/CloudStorage/OneDrive-UniversityofEdinburgh/PhD/1. Working/1. Computational/EdiHeadyTrack - PACKAGE SOURCE/venv/lib/python3.9/site-packages)\u001b[0m\u001b[33m\n",
      "\u001b[0m\u001b[33mWARNING: Ignoring invalid distribution -umpy (/Users/thomas/Library/CloudStorage/OneDrive-UniversityofEdinburgh/PhD/1. Working/1. Computational/EdiHeadyTrack - PACKAGE SOURCE/venv/lib/python3.9/site-packages)\u001b[0m\u001b[33m\n",
      "\u001b[0mInstalling collected packages: argparse\n",
      "Successfully installed argparse-1.4.0\n",
      "\n",
      "\u001b[1m[\u001b[0m\u001b[34;49mnotice\u001b[0m\u001b[1;39;49m]\u001b[0m\u001b[39;49m A new release of pip is available: \u001b[0m\u001b[31;49m23.1.2\u001b[0m\u001b[39;49m -> \u001b[0m\u001b[32;49m23.2.1\u001b[0m\n",
      "\u001b[1m[\u001b[0m\u001b[34;49mnotice\u001b[0m\u001b[1;39;49m]\u001b[0m\u001b[39;49m To update, run: \u001b[0m\u001b[32;49mpip install --upgrade pip\u001b[0m\n"
     ]
    }
   ],
   "source": [
    "!pip install EdiHeadyTrack"
   ]
  },
  {
   "attachments": {},
   "cell_type": "markdown",
   "metadata": {},
   "source": [
    "Importing the package (once installation is complete):"
   ]
  },
  {
   "cell_type": "code",
   "execution_count": 2,
   "metadata": {},
   "outputs": [],
   "source": [
    "import EdiHeadyTrack as eht"
   ]
  },
  {
   "attachments": {},
   "cell_type": "markdown",
   "metadata": {},
   "source": [
    "Navigate to the directory from which video files will be accessed:"
   ]
  },
  {
   "cell_type": "code",
   "execution_count": 3,
   "metadata": {},
   "outputs": [
    {
     "name": "stdout",
     "output_type": "stream",
     "text": [
      "/Users/thomas/Library/CloudStorage/OneDrive-UniversityofEdinburgh/PhD/1. Working/1. Computational/EdiHeadyTrack - PACKAGE SOURCE\n"
     ]
    }
   ],
   "source": [
    "import os\n",
    "os.chdir('..')\n",
    "print(os.getcwd())"
   ]
  },
  {
   "attachments": {},
   "cell_type": "markdown",
   "metadata": {},
   "source": [
    "Import video to perform tracking on and create a camera object:"
   ]
  },
  {
   "cell_type": "code",
   "execution_count": 4,
   "metadata": {},
   "outputs": [],
   "source": [
    "video = eht.Video(filename='resources/high_speed_videos/theta_0_v_43.mp4')\n",
    "camera = eht.Camera()"
   ]
  },
  {
   "attachments": {},
   "cell_type": "markdown",
   "metadata": {},
   "source": [
    "Perform head pose estimation on chosen video using chosen PoseDetectors from 'posedetector' module:"
   ]
  },
  {
   "cell_type": "code",
   "execution_count": 5,
   "metadata": {},
   "outputs": [
    {
     "name": "stdout",
     "output_type": "stream",
     "text": [
      "------------------------------------------------------------------------------------------------------------------------\n",
      "Creating TDDFA_v2 object for video resources/high_speed_videos/theta_0_v_43.mp4:                                15:40:39\n",
      "------------------------------------------------------------------------------------------------------------------------\n",
      "------------------------------------------------------------\n",
      "Video data:\n",
      "------------------------------------------------------------\n",
      "Video resolution: 1280 x 720 pixels\n",
      "Length of video: 1178 frames\n",
      "Framerate: 1200 fps\n",
      "------------------------------------------------------------\n",
      "/Users/thomas/Library/CloudStorage/OneDrive-UniversityofEdinburgh/PhD/1. Working/1. Computational/EdiHeadyTrack - PACKAGE SOURCE/venv/lib/python3.9/site-packages/EdiHeadyTrack/TDDFA_v2/weights/mb1_120x120.onnx does not exist, try to convert the `.pth` version to `.onnx` online\n"
     ]
    },
    {
     "ename": "FileNotFoundError",
     "evalue": "[Errno 2] No such file or directory: 'weights/mb1_120x120.pth'",
     "output_type": "error",
     "traceback": [
      "\u001b[0;31m---------------------------------------------------------------------------\u001b[0m",
      "\u001b[0;31mFileNotFoundError\u001b[0m                         Traceback (most recent call last)",
      "Cell \u001b[0;32mIn[5], line 2\u001b[0m\n\u001b[1;32m      1\u001b[0m \u001b[39m# mediapipe = eht.MediaPipe(video=video, camera=camera)\u001b[39;00m\n\u001b[0;32m----> 2\u001b[0m tddfa \u001b[39m=\u001b[39m eht\u001b[39m.\u001b[39;49mTDDFA_V2(video\u001b[39m=\u001b[39;49mvideo, camera\u001b[39m=\u001b[39;49mcamera, show\u001b[39m=\u001b[39;49m\u001b[39mTrue\u001b[39;49;00m)\n",
      "File \u001b[0;32m~/Library/CloudStorage/OneDrive-UniversityofEdinburgh/PhD/1. Working/1. Computational/EdiHeadyTrack - PACKAGE SOURCE/venv/lib/python3.9/site-packages/EdiHeadyTrack/posedetector.py:415\u001b[0m, in \u001b[0;36mTDDFA_V2.__init__\u001b[0;34m(self, video, camera, show, smooth, dense)\u001b[0m\n\u001b[1;32m    413\u001b[0m \u001b[39melse\u001b[39;00m:\n\u001b[1;32m    414\u001b[0m     args \u001b[39m=\u001b[39m parser\u001b[39m.\u001b[39mparse_args(args\u001b[39m=\u001b[39m[])\n\u001b[0;32m--> 415\u001b[0m     \u001b[39mself\u001b[39;49m\u001b[39m.\u001b[39;49mrun(args)\n\u001b[1;32m    417\u001b[0m \u001b[39m# offset values\u001b[39;00m\n\u001b[1;32m    418\u001b[0m \u001b[39mself\u001b[39m\u001b[39m.\u001b[39mpose[\u001b[39m'\u001b[39m\u001b[39myaw\u001b[39m\u001b[39m'\u001b[39m] \u001b[39m=\u001b[39m [val \u001b[39m-\u001b[39m \u001b[39mself\u001b[39m\u001b[39m.\u001b[39mpose[\u001b[39m'\u001b[39m\u001b[39myaw\u001b[39m\u001b[39m'\u001b[39m][\u001b[39m0\u001b[39m] \u001b[39mfor\u001b[39;00m val \u001b[39min\u001b[39;00m \u001b[39mself\u001b[39m\u001b[39m.\u001b[39mpose[\u001b[39m'\u001b[39m\u001b[39myaw\u001b[39m\u001b[39m'\u001b[39m]]\n",
      "File \u001b[0;32m~/Library/CloudStorage/OneDrive-UniversityofEdinburgh/PhD/1. Working/1. Computational/EdiHeadyTrack - PACKAGE SOURCE/venv/lib/python3.9/site-packages/EdiHeadyTrack/posedetector.py:456\u001b[0m, in \u001b[0;36mTDDFA_V2.run\u001b[0;34m(self, args)\u001b[0m\n\u001b[1;32m    454\u001b[0m cfg \u001b[39m=\u001b[39m yaml\u001b[39m.\u001b[39mload(\u001b[39mopen\u001b[39m(args\u001b[39m.\u001b[39mconfig), Loader\u001b[39m=\u001b[39myaml\u001b[39m.\u001b[39mSafeLoader)\n\u001b[1;32m    455\u001b[0m face_boxes \u001b[39m=\u001b[39m FaceBoxes_ONNX()\n\u001b[0;32m--> 456\u001b[0m tddfa \u001b[39m=\u001b[39m TDDFA_ONNX(\u001b[39m*\u001b[39;49m\u001b[39m*\u001b[39;49mcfg)\n\u001b[1;32m    458\u001b[0m \u001b[39m# Given a video path\u001b[39;00m\n\u001b[1;32m    459\u001b[0m fn \u001b[39m=\u001b[39m args\u001b[39m.\u001b[39mvideo_fp\u001b[39m.\u001b[39msplit(\u001b[39m'\u001b[39m\u001b[39m/\u001b[39m\u001b[39m'\u001b[39m)[\u001b[39m-\u001b[39m\u001b[39m1\u001b[39m]\n",
      "File \u001b[0;32m~/Library/CloudStorage/OneDrive-UniversityofEdinburgh/PhD/1. Working/1. Computational/EdiHeadyTrack - PACKAGE SOURCE/venv/lib/python3.9/site-packages/EdiHeadyTrack/TDDFA_v2/TDDFA_ONNX.py:66\u001b[0m, in \u001b[0;36mTDDFA_ONNX.__init__\u001b[0;34m(self, **kvs)\u001b[0m\n\u001b[1;32m     64\u001b[0m \u001b[39mif\u001b[39;00m onnx_fp \u001b[39mis\u001b[39;00m \u001b[39mNone\u001b[39;00m \u001b[39mor\u001b[39;00m \u001b[39mnot\u001b[39;00m osp\u001b[39m.\u001b[39mexists(onnx_fp):\n\u001b[1;32m     65\u001b[0m     \u001b[39mprint\u001b[39m(\u001b[39mf\u001b[39m\u001b[39m'\u001b[39m\u001b[39m{\u001b[39;00monnx_fp\u001b[39m}\u001b[39;00m\u001b[39m does not exist, try to convert the `.pth` version to `.onnx` online\u001b[39m\u001b[39m'\u001b[39m)\n\u001b[0;32m---> 66\u001b[0m     onnx_fp \u001b[39m=\u001b[39m convert_to_onnx(\u001b[39m*\u001b[39;49m\u001b[39m*\u001b[39;49mkvs)\n\u001b[1;32m     68\u001b[0m \u001b[39mself\u001b[39m\u001b[39m.\u001b[39msession \u001b[39m=\u001b[39m onnxruntime\u001b[39m.\u001b[39mInferenceSession(onnx_fp, \u001b[39mNone\u001b[39;00m)\n\u001b[1;32m     70\u001b[0m \u001b[39m# params normalization config\u001b[39;00m\n",
      "File \u001b[0;32m~/Library/CloudStorage/OneDrive-UniversityofEdinburgh/PhD/1. Working/1. Computational/EdiHeadyTrack - PACKAGE SOURCE/venv/lib/python3.9/site-packages/EdiHeadyTrack/TDDFA_v2/utils/onnx.py:24\u001b[0m, in \u001b[0;36mconvert_to_onnx\u001b[0;34m(**kvs)\u001b[0m\n\u001b[1;32m     17\u001b[0m model \u001b[39m=\u001b[39m \u001b[39mgetattr\u001b[39m(models, kvs\u001b[39m.\u001b[39mget(\u001b[39m'\u001b[39m\u001b[39march\u001b[39m\u001b[39m'\u001b[39m))(\n\u001b[1;32m     18\u001b[0m     num_classes\u001b[39m=\u001b[39mkvs\u001b[39m.\u001b[39mget(\u001b[39m'\u001b[39m\u001b[39mnum_params\u001b[39m\u001b[39m'\u001b[39m, \u001b[39m62\u001b[39m),\n\u001b[1;32m     19\u001b[0m     widen_factor\u001b[39m=\u001b[39mkvs\u001b[39m.\u001b[39mget(\u001b[39m'\u001b[39m\u001b[39mwiden_factor\u001b[39m\u001b[39m'\u001b[39m, \u001b[39m1\u001b[39m),\n\u001b[1;32m     20\u001b[0m     size\u001b[39m=\u001b[39msize,\n\u001b[1;32m     21\u001b[0m     mode\u001b[39m=\u001b[39mkvs\u001b[39m.\u001b[39mget(\u001b[39m'\u001b[39m\u001b[39mmode\u001b[39m\u001b[39m'\u001b[39m, \u001b[39m'\u001b[39m\u001b[39msmall\u001b[39m\u001b[39m'\u001b[39m)\n\u001b[1;32m     22\u001b[0m )\n\u001b[1;32m     23\u001b[0m checkpoint_fp \u001b[39m=\u001b[39m kvs\u001b[39m.\u001b[39mget(\u001b[39m'\u001b[39m\u001b[39mcheckpoint_fp\u001b[39m\u001b[39m'\u001b[39m)\n\u001b[0;32m---> 24\u001b[0m model \u001b[39m=\u001b[39m load_model(model, checkpoint_fp)\n\u001b[1;32m     25\u001b[0m model\u001b[39m.\u001b[39meval()\n\u001b[1;32m     27\u001b[0m \u001b[39m# 2. convert\u001b[39;00m\n",
      "File \u001b[0;32m~/Library/CloudStorage/OneDrive-UniversityofEdinburgh/PhD/1. Working/1. Computational/EdiHeadyTrack - PACKAGE SOURCE/venv/lib/python3.9/site-packages/EdiHeadyTrack/TDDFA_v2/utils/tddfa_util.py:30\u001b[0m, in \u001b[0;36mload_model\u001b[0;34m(model, checkpoint_fp)\u001b[0m\n\u001b[1;32m     29\u001b[0m \u001b[39mdef\u001b[39;00m \u001b[39mload_model\u001b[39m(model, checkpoint_fp):\n\u001b[0;32m---> 30\u001b[0m     checkpoint \u001b[39m=\u001b[39m torch\u001b[39m.\u001b[39;49mload(checkpoint_fp, map_location\u001b[39m=\u001b[39;49m\u001b[39mlambda\u001b[39;49;00m storage, loc: storage)[\u001b[39m'\u001b[39m\u001b[39mstate_dict\u001b[39m\u001b[39m'\u001b[39m]\n\u001b[1;32m     31\u001b[0m     model_dict \u001b[39m=\u001b[39m model\u001b[39m.\u001b[39mstate_dict()\n\u001b[1;32m     32\u001b[0m     \u001b[39m# because the model is trained by multiple gpus, prefix module should be removed\u001b[39;00m\n",
      "File \u001b[0;32m~/Library/CloudStorage/OneDrive-UniversityofEdinburgh/PhD/1. Working/1. Computational/EdiHeadyTrack - PACKAGE SOURCE/venv/lib/python3.9/site-packages/torch/serialization.py:791\u001b[0m, in \u001b[0;36mload\u001b[0;34m(f, map_location, pickle_module, weights_only, **pickle_load_args)\u001b[0m\n\u001b[1;32m    788\u001b[0m \u001b[39mif\u001b[39;00m \u001b[39m'\u001b[39m\u001b[39mencoding\u001b[39m\u001b[39m'\u001b[39m \u001b[39mnot\u001b[39;00m \u001b[39min\u001b[39;00m pickle_load_args\u001b[39m.\u001b[39mkeys():\n\u001b[1;32m    789\u001b[0m     pickle_load_args[\u001b[39m'\u001b[39m\u001b[39mencoding\u001b[39m\u001b[39m'\u001b[39m] \u001b[39m=\u001b[39m \u001b[39m'\u001b[39m\u001b[39mutf-8\u001b[39m\u001b[39m'\u001b[39m\n\u001b[0;32m--> 791\u001b[0m \u001b[39mwith\u001b[39;00m _open_file_like(f, \u001b[39m'\u001b[39;49m\u001b[39mrb\u001b[39;49m\u001b[39m'\u001b[39;49m) \u001b[39mas\u001b[39;00m opened_file:\n\u001b[1;32m    792\u001b[0m     \u001b[39mif\u001b[39;00m _is_zipfile(opened_file):\n\u001b[1;32m    793\u001b[0m         \u001b[39m# The zipfile reader is going to advance the current file position.\u001b[39;00m\n\u001b[1;32m    794\u001b[0m         \u001b[39m# If we want to actually tail call to torch.jit.load, we need to\u001b[39;00m\n\u001b[1;32m    795\u001b[0m         \u001b[39m# reset back to the original position.\u001b[39;00m\n\u001b[1;32m    796\u001b[0m         orig_position \u001b[39m=\u001b[39m opened_file\u001b[39m.\u001b[39mtell()\n",
      "File \u001b[0;32m~/Library/CloudStorage/OneDrive-UniversityofEdinburgh/PhD/1. Working/1. Computational/EdiHeadyTrack - PACKAGE SOURCE/venv/lib/python3.9/site-packages/torch/serialization.py:271\u001b[0m, in \u001b[0;36m_open_file_like\u001b[0;34m(name_or_buffer, mode)\u001b[0m\n\u001b[1;32m    269\u001b[0m \u001b[39mdef\u001b[39;00m \u001b[39m_open_file_like\u001b[39m(name_or_buffer, mode):\n\u001b[1;32m    270\u001b[0m     \u001b[39mif\u001b[39;00m _is_path(name_or_buffer):\n\u001b[0;32m--> 271\u001b[0m         \u001b[39mreturn\u001b[39;00m _open_file(name_or_buffer, mode)\n\u001b[1;32m    272\u001b[0m     \u001b[39melse\u001b[39;00m:\n\u001b[1;32m    273\u001b[0m         \u001b[39mif\u001b[39;00m \u001b[39m'\u001b[39m\u001b[39mw\u001b[39m\u001b[39m'\u001b[39m \u001b[39min\u001b[39;00m mode:\n",
      "File \u001b[0;32m~/Library/CloudStorage/OneDrive-UniversityofEdinburgh/PhD/1. Working/1. Computational/EdiHeadyTrack - PACKAGE SOURCE/venv/lib/python3.9/site-packages/torch/serialization.py:252\u001b[0m, in \u001b[0;36m_open_file.__init__\u001b[0;34m(self, name, mode)\u001b[0m\n\u001b[1;32m    251\u001b[0m \u001b[39mdef\u001b[39;00m \u001b[39m__init__\u001b[39m(\u001b[39mself\u001b[39m, name, mode):\n\u001b[0;32m--> 252\u001b[0m     \u001b[39msuper\u001b[39m()\u001b[39m.\u001b[39m\u001b[39m__init__\u001b[39m(\u001b[39mopen\u001b[39;49m(name, mode))\n",
      "\u001b[0;31mFileNotFoundError\u001b[0m: [Errno 2] No such file or directory: 'weights/mb1_120x120.pth'"
     ]
    }
   ],
   "source": [
    "# mediapipe = eht.MediaPipe(video=video, camera=camera)\n",
    "tddfa = eht.TDDFA_V2(video=video, camera=camera, show=True)"
   ]
  },
  {
   "attachments": {},
   "cell_type": "markdown",
   "metadata": {},
   "source": [
    "Create a filter to be applied to signals: "
   ]
  },
  {
   "cell_type": "code",
   "execution_count": null,
   "metadata": {},
   "outputs": [],
   "source": [
    "filter = eht.Filter().low_pass_butterworth(fs=4000, lowcut=160, order=4)"
   ]
  },
  {
   "attachments": {},
   "cell_type": "markdown",
   "metadata": {},
   "source": [
    "Create a Head object and apply the above filter:"
   ]
  },
  {
   "cell_type": "code",
   "execution_count": null,
   "metadata": {},
   "outputs": [],
   "source": [
    "head = eht.Head(posedetector=mediapipe, id='MP').apply_filter(filter)"
   ]
  },
  {
   "attachments": {},
   "cell_type": "markdown",
   "metadata": {},
   "source": [
    "Load data from a chosen IMU using a class from the imu module:"
   ]
  },
  {
   "cell_type": "code",
   "execution_count": null,
   "metadata": {},
   "outputs": [],
   "source": [
    "wax9 = eht.Wax9(filename='resources/example_imu.csv', time_offset=-59.335, id='WAX-9')"
   ]
  },
  {
   "attachments": {},
   "cell_type": "markdown",
   "metadata": {},
   "source": [
    "Create a list of key times for showing video frames, and create a comparison plot:"
   ]
  },
  {
   "cell_type": "code",
   "execution_count": null,
   "metadata": {},
   "outputs": [],
   "source": [
    "key_times = [0.9, 0.95, 1.0, 1.05, 1.1, 1.15, 1.2, 1.25]\n",
    "comparison_plot = eht.Plot(wax9, head).plot_property(property='velocity', \n",
    "                                                     xlim=(0.85, 1.35), \n",
    "                                                     ylim=(-220, 220), \n",
    "                                                     key_times=key_times,\n",
    "                                                     show=True) "
   ]
  },
  {
   "attachments": {},
   "cell_type": "markdown",
   "metadata": {},
   "source": [
    "Produce a table summarising the maximum values of each plot:"
   ]
  },
  {
   "cell_type": "code",
   "execution_count": null,
   "metadata": {},
   "outputs": [],
   "source": [
    "comparison_plot.summarise()"
   ]
  },
  {
   "cell_type": "code",
   "execution_count": null,
   "metadata": {},
   "outputs": [],
   "source": []
  }
 ],
 "metadata": {
  "kernelspec": {
   "display_name": "Python 3 (ipykernel)",
   "language": "python",
   "name": "python3"
  },
  "language_info": {
   "codemirror_mode": {
    "name": "ipython",
    "version": 3
   },
   "file_extension": ".py",
   "mimetype": "text/x-python",
   "name": "python",
   "nbconvert_exporter": "python",
   "pygments_lexer": "ipython3",
   "version": "3.9.0"
  }
 },
 "nbformat": 4,
 "nbformat_minor": 4
}
