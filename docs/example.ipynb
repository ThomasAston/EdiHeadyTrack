{
 "cells": [
  {
   "attachments": {},
   "cell_type": "markdown",
   "metadata": {},
   "source": [
    "# EdiHeadyTrack Example"
   ]
  },
  {
   "attachments": {},
   "cell_type": "markdown",
   "metadata": {},
   "source": [
    "Installing the package:"
   ]
  },
  {
   "cell_type": "code",
   "execution_count": null,
   "metadata": {},
   "outputs": [],
   "source": [
    "%pip install EdiHeadyTrack"
   ]
  },
  {
   "attachments": {},
   "cell_type": "markdown",
   "metadata": {},
   "source": [
    "Importing the package:"
   ]
  },
  {
   "cell_type": "code",
   "execution_count": 7,
   "metadata": {},
   "outputs": [],
   "source": [
    "import EdiHeadyTrack as eht"
   ]
  },
  {
   "attachments": {},
   "cell_type": "markdown",
   "metadata": {},
   "source": [
    "Selecting a video for calibration and calibrating the camera:"
   ]
  },
  {
   "cell_type": "code",
   "execution_count": 8,
   "metadata": {},
   "outputs": [
    {
     "ename": "AttributeError",
     "evalue": "module 'EdiHeadyTrack' has no attribute 'Video'",
     "output_type": "error",
     "traceback": [
      "\u001b[0;31m---------------------------------------------------------------------------\u001b[0m",
      "\u001b[0;31mAttributeError\u001b[0m                            Traceback (most recent call last)",
      "Cell \u001b[0;32mIn[8], line 1\u001b[0m\n\u001b[0;32m----> 1\u001b[0m calibration_video \u001b[39m=\u001b[39m eht\u001b[39m.\u001b[39;49mVideo(filename\u001b[39m=\u001b[39m\u001b[39m'\u001b[39m\u001b[39mEdiHeadyTrack/resources/calibration_example.mp4\u001b[39m\u001b[39m'\u001b[39m)\n\u001b[1;32m      2\u001b[0m calibrated_camera \u001b[39m=\u001b[39m eht\u001b[39m.\u001b[39mCamera()\u001b[39m.\u001b[39mcalibrate(checkerboard\u001b[39m=\u001b[39m(\u001b[39m9\u001b[39m,\u001b[39m6\u001b[39m), video\u001b[39m=\u001b[39mcalibration_video)\n",
      "\u001b[0;31mAttributeError\u001b[0m: module 'EdiHeadyTrack' has no attribute 'Video'"
     ]
    }
   ],
   "source": [
    "calibration_video = eht.Video(filename='EdiHeadyTrack/resources/calibration_example.mp4')\n",
    "calibrated_camera = eht.Camera().calibrate(checkerboard=(9,6), video=calibration_video)"
   ]
  }
 ],
 "metadata": {
  "kernelspec": {
   "display_name": "venv",
   "language": "python",
   "name": "python3"
  },
  "language_info": {
   "codemirror_mode": {
    "name": "ipython",
    "version": 3
   },
   "file_extension": ".py",
   "mimetype": "text/x-python",
   "name": "python",
   "nbconvert_exporter": "python",
   "pygments_lexer": "ipython3",
   "version": "3.9.0"
  },
  "orig_nbformat": 4
 },
 "nbformat": 4,
 "nbformat_minor": 2
}
